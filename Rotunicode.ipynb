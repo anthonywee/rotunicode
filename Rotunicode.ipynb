{
 "cells": [
  {
   "cell_type": "markdown",
   "metadata": {
    "slideshow": {
     "slide_type": "slide"
    }
   },
   "source": [
    "# Rotunicode\n",
    "\n",
    "**A Python library for converting between a string of ASCII and Unicode chars maintaining readability.**\n",
    "\n",
    "`pip install rotunicode`\n",
    "\n",
    "Available on GitHub: https://github.com/box/rotunicode"
   ]
  },
  {
   "cell_type": "markdown",
   "metadata": {
    "slideshow": {
     "slide_type": "subslide"
    }
   },
   "source": [
    "## Why?"
   ]
  },
  {
   "cell_type": "markdown",
   "metadata": {
    "slideshow": {
     "slide_type": "fragment"
    }
   },
   "source": [
    "Ever seen a message like these?\n",
    "\n",
    "- `UnicodeEncodeError: 'ascii' codec can't encode character u'\\xfc' in position 1: ordinal not in range(128)`\n",
    "- `UnicodeDecodeError: 'ascii' codec can't decode byte 0xe2 in position 3: ordinal not in range(128)`"
   ]
  },
  {
   "cell_type": "markdown",
   "metadata": {
    "slideshow": {
     "slide_type": "fragment"
    }
   },
   "source": [
    "Python (especially Python 2) has a **unicode** problem. (Read more [here](http://nedbatchelder.com/text/unipain/unipain.html)).\n",
    "\n",
    "**RotUnicode** is here to help.\n",
    "\n",
    "It helps by generating non-ASCII strings that you can still read. Use them in your tests to ferret out `UnicodeError`s."
   ]
  },
  {
   "cell_type": "markdown",
   "metadata": {
    "slideshow": {
     "slide_type": "slide"
    }
   },
   "source": [
    "## Examples"
   ]
  },
  {
   "cell_type": "markdown",
   "metadata": {
    "slideshow": {
     "slide_type": "slide"
    }
   },
   "source": [
    "### RotUnicode from Python"
   ]
  },
  {
   "cell_type": "code",
   "execution_count": 1,
   "metadata": {
    "collapsed": true,
    "slideshow": {
     "slide_type": "fragment"
    }
   },
   "outputs": [],
   "source": [
    "from rotunicode import ruencode"
   ]
  },
  {
   "cell_type": "code",
   "execution_count": 2,
   "metadata": {
    "collapsed": false,
    "slideshow": {
     "slide_type": "fragment"
    }
   },
   "outputs": [
    {
     "name": "stdout",
     "output_type": "stream",
     "text": [
      "Ĥȅľľő Ŵőŕľď\n"
     ]
    }
   ],
   "source": [
    "print ruencode('Hello World')"
   ]
  },
  {
   "cell_type": "code",
   "execution_count": 3,
   "metadata": {
    "collapsed": false,
    "slideshow": {
     "slide_type": "fragment"
    }
   },
   "outputs": [
    {
     "name": "stdout",
     "output_type": "stream",
     "text": [
      "Hello World\n"
     ]
    }
   ],
   "source": [
    "from rotunicode import rudecode\n",
    "hello = ruencode('Hello World')\n",
    "print rudecode(hello)"
   ]
  },
  {
   "cell_type": "code",
   "execution_count": 4,
   "metadata": {
    "collapsed": false,
    "slideshow": {
     "slide_type": "fragment"
    }
   },
   "outputs": [
    {
     "name": "stdout",
     "output_type": "stream",
     "text": [
      "Ńȕḿȅŕȉć ŝƭŕȉńġ: ➀➁➂➃➄\n"
     ]
    }
   ],
   "source": [
    "print ruencode('Numeric string: 12345')"
   ]
  },
  {
   "cell_type": "code",
   "execution_count": 5,
   "metadata": {
    "collapsed": false,
    "slideshow": {
     "slide_type": "fragment"
    }
   },
   "outputs": [
    {
     "name": "stdout",
     "output_type": "stream",
     "text": [
      "हेलो Ŵőŕľď!\n"
     ]
    }
   ],
   "source": [
    "# Leaves non a-zA-Z0-9 characters as is.\n",
    "print ruencode('हेलो World!')"
   ]
  },
  {
   "cell_type": "markdown",
   "metadata": {
    "slideshow": {
     "slide_type": "slide"
    }
   },
   "source": [
    "### RotUnicode from the command line"
   ]
  },
  {
   "cell_type": "code",
   "execution_count": 6,
   "metadata": {
    "collapsed": false,
    "slideshow": {
     "slide_type": "fragment"
    }
   },
   "outputs": [
    {
     "name": "stdout",
     "output_type": "stream",
     "text": [
      "Ĥȅľľő Ŵőŕľď\r\n"
     ]
    }
   ],
   "source": [
    "!rotunicode 'Hello World'"
   ]
  },
  {
   "cell_type": "code",
   "execution_count": 7,
   "metadata": {
    "collapsed": false,
    "slideshow": {
     "slide_type": "fragment"
    }
   },
   "outputs": [
    {
     "name": "stdout",
     "output_type": "stream",
     "text": [
      "Hello World\r\n"
     ]
    }
   ],
   "source": [
    "!rotunicode -d 'Ĥȅľľő Ŵőŕľď'"
   ]
  },
  {
   "cell_type": "code",
   "execution_count": 8,
   "metadata": {
    "collapsed": false,
    "slideshow": {
     "slide_type": "fragment"
    }
   },
   "outputs": [
    {
     "name": "stdout",
     "output_type": "stream",
     "text": [
      "Writing ascii.txt\n"
     ]
    }
   ],
   "source": [
    "%%file ascii.txt\n",
    "ASCII file content"
   ]
  },
  {
   "cell_type": "code",
   "execution_count": 9,
   "metadata": {
    "collapsed": false
   },
   "outputs": [
    {
     "name": "stdout",
     "output_type": "stream",
     "text": [
      "ȀŜĆȈȈ ƒȉľȅ ćőńƭȅńƭ\r\n"
     ]
    }
   ],
   "source": [
    "!rotunicode -f ascii.txt"
   ]
  },
  {
   "cell_type": "code",
   "execution_count": 10,
   "metadata": {
    "collapsed": false,
    "slideshow": {
     "slide_type": "fragment"
    }
   },
   "outputs": [
    {
     "name": "stdout",
     "output_type": "stream",
     "text": [
      "ASCII file content\r\n"
     ]
    }
   ],
   "source": [
    "!rotunicode -f ascii.txt | rotunicode -d"
   ]
  },
  {
   "cell_type": "markdown",
   "metadata": {
    "slideshow": {
     "slide_type": "slide"
    }
   },
   "source": [
    "## Summary\n",
    "\n",
    "- Use RotUnicode to generate non-ASCII strings for testing.\n",
    "- Use these strings to test:\n",
    "  * User input\n",
    "  * Library calls\n",
    "  * Library return values\n",
    "  * Wire data\n",
    "- Use RotUnicode from Python: `ruencode` turns ASCII to non-ASCII; `rudecode` translates back to ASCII.\n",
    "- Use RotUnicode from the command line: `rotunicode --help` for more info.\n",
    "  "
   ]
  },
  {
   "cell_type": "markdown",
   "metadata": {
    "slideshow": {
     "slide_type": "slide"
    }
   },
   "source": [
    "This notebook is available for download: http://opensource.box.com/rotunicode/Rotunicode.ipynb\n",
    "\n",
    "Its content is licensed under the [Apache License 2.0](https://www.apache.org/licenses/LICENSE-2.0)."
   ]
  }
 ],
 "metadata": {
  "celltoolbar": "Slideshow",
  "kernelspec": {
   "display_name": "Python 2",
   "language": "python",
   "name": "python2"
  },
  "language_info": {
   "codemirror_mode": {
    "name": "ipython",
    "version": 2
   },
   "file_extension": ".py",
   "mimetype": "text/x-python",
   "name": "python",
   "nbconvert_exporter": "python",
   "pygments_lexer": "ipython2",
   "version": "2.7.9"
  }
 },
 "nbformat": 4,
 "nbformat_minor": 0
}
